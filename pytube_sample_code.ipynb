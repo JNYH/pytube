{
 "cells": [
  {
   "cell_type": "markdown",
   "metadata": {},
   "source": [
    "## Install pytube"
   ]
  },
  {
   "cell_type": "code",
   "execution_count": 1,
   "metadata": {},
   "outputs": [
    {
     "name": "stdout",
     "output_type": "stream",
     "text": [
      "Collecting git+https://github.com/JNYH/pytube\n"
     ]
    },
    {
     "name": "stderr",
     "output_type": "stream",
     "text": [
      "  Running command git clone -q https://github.com/JNYH/pytube 'C:\\Users\\Admin\\AppData\\Local\\Temp\\pip-req-build-wa47l9j4'\n"
     ]
    },
    {
     "name": "stdout",
     "output_type": "stream",
     "text": [
      "  Cloning https://github.com/JNYH/pytube to c:\\users\\admin\\appdata\\local\\temp\\pip-req-build-wa47l9j4\n",
      "Building wheels for collected packages: pytube\n",
      "  Building wheel for pytube (setup.py): started\n",
      "  Building wheel for pytube (setup.py): finished with status 'done'\n",
      "  Created wheel for pytube: filename=pytube-12.0.0-py3-none-any.whl size=55049 sha256=91e53cccfa922f904b6ab98fada787fef741cfa4182bd1274e67b20ecc7b6dd1\n",
      "  Stored in directory: C:\\Users\\Admin\\AppData\\Local\\Temp\\pip-ephem-wheel-cache-cuyqf_61\\wheels\\f0\\95\\ea\\0f06fdd3238e7f7e14778393502afadd761000a63ef93bb19e\n",
      "Successfully built pytube\n",
      "Installing collected packages: pytube\n",
      "  Attempting uninstall: pytube\n",
      "    Found existing installation: pytube 11.0.1\n",
      "    Uninstalling pytube-11.0.1:\n",
      "      Successfully uninstalled pytube-11.0.1\n",
      "Successfully installed pytube-12.0.0\n"
     ]
    }
   ],
   "source": [
    "#pytube-12.0.0 with bugs fixed\n",
    "#the original version still comes with bugs (https://github.com/pytube/pytube)\n",
    "!pip install git+https://github.com/JNYH/pytube"
   ]
  },
  {
   "cell_type": "code",
   "execution_count": 1,
   "metadata": {},
   "outputs": [
    {
     "name": "stdout",
     "output_type": "stream",
     "text": [
      "Collecting git+https://github.com/baxterisme/pytube\n",
      "  Cloning https://github.com/baxterisme/pytube to c:\\users\\admin\\appdata\\local\\temp\\pip-req-build-5p3p4tze\n",
      "Building wheels for collected packages: pytube\n",
      "  Building wheel for pytube (setup.py): started\n",
      "  Building wheel for pytube (setup.py): finished with status 'done'\n",
      "  Created wheel for pytube: filename=pytube-11.0.1-py3-none-any.whl size=54914 sha256=5813feab982ec7dea824b16276d523b617828dda67c12c372c3a684426f2bbfa\n",
      "  Stored in directory: C:\\Users\\Admin\\AppData\\Local\\Temp\\pip-ephem-wheel-cache-qi_b37db\\wheels\\6f\\6d\\e0\\c1769dfef24d279e0eedd833a99b44f7bb3a723ee11e6f1d87\n",
      "Successfully built pytube\n",
      "Installing collected packages: pytube\n",
      "  Attempting uninstall: pytube\n",
      "    Found existing installation: pytube 12.0.0\n",
      "    Uninstalling pytube-12.0.0:\n",
      "      Successfully uninstalled pytube-12.0.0\n",
      "Successfully installed pytube-11.0.1\n"
     ]
    },
    {
     "name": "stderr",
     "output_type": "stream",
     "text": [
      "  Running command git clone -q https://github.com/baxterisme/pytube 'C:\\Users\\Admin\\AppData\\Local\\Temp\\pip-req-build-5p3p4tze'\n"
     ]
    }
   ],
   "source": [
    "#or use this previous working version: \n",
    "#pytube-11.0.1\n",
    "!pip install git+https://github.com/baxterisme/pytube"
   ]
  },
  {
   "cell_type": "code",
   "execution_count": null,
   "metadata": {},
   "outputs": [],
   "source": []
  },
  {
   "cell_type": "code",
   "execution_count": null,
   "metadata": {},
   "outputs": [],
   "source": []
  },
  {
   "cell_type": "code",
   "execution_count": null,
   "metadata": {},
   "outputs": [],
   "source": []
  },
  {
   "cell_type": "code",
   "execution_count": null,
   "metadata": {},
   "outputs": [],
   "source": []
  },
  {
   "cell_type": "markdown",
   "metadata": {},
   "source": [
    "# Main code"
   ]
  },
  {
   "cell_type": "markdown",
   "metadata": {},
   "source": [
    "### Remember to Restart Kernel after installing a new version of pytube"
   ]
  },
  {
   "cell_type": "code",
   "execution_count": 1,
   "metadata": {},
   "outputs": [
    {
     "name": "stdout",
     "output_type": "stream",
     "text": [
      "Title: Build LookML Objects in Looker: GSP891 Looker Developer - Qwik Start solution 2.1\n",
      "Author: Black Raven\n",
      "Published date: 2022-04-27\n",
      "Number of views: 14\n",
      "Length of video: 339 seconds\n",
      "Your video has been downloaded https://youtu.be/7aKpeAu-IoM\n"
     ]
    }
   ],
   "source": [
    "import pytube\n",
    "\n",
    "# link = input('Enter The Youtube Video URL:')\n",
    "link = 'https://youtu.be/7aKpeAu-IoM'\n",
    "yt = pytube.YouTube(link)\n",
    "\n",
    "#Showing details\n",
    "print('Title:', yt.title)\n",
    "print('Author:', yt.author)\n",
    "print('Published date:', yt.publish_date.strftime(\"%Y-%m-%d\"))\n",
    "print('Number of views:', yt.views)\n",
    "print('Length of video:', yt.length, 'seconds')\n",
    "# print('Description:', yt.description)\n",
    "\n",
    "yt.streams.get_highest_resolution().download()\n",
    "# yt.streams.filter(progressive=True, file_extension='mp4').order_by('resolution').desc().first().download()    #same\n",
    "print('Video successfullly downloaded from', link)"
   ]
  },
  {
   "cell_type": "code",
   "execution_count": null,
   "metadata": {},
   "outputs": [],
   "source": []
  },
  {
   "cell_type": "code",
   "execution_count": null,
   "metadata": {},
   "outputs": [],
   "source": []
  },
  {
   "cell_type": "markdown",
   "metadata": {},
   "source": [
    "## There are 2 types of streaming data\n",
    "The above video downloaded should be 720p HD resolution. Continue below to get higher resolution videos"
   ]
  },
  {
   "cell_type": "code",
   "execution_count": 2,
   "metadata": {},
   "outputs": [
    {
     "name": "stdout",
     "output_type": "stream",
     "text": [
      "<Stream: itag=\"17\" mime_type=\"video/3gpp\" res=\"144p\" fps=\"8fps\" vcodec=\"mp4v.20.3\" acodec=\"mp4a.40.2\" progressive=\"True\" type=\"video\">\n",
      "<Stream: itag=\"18\" mime_type=\"video/mp4\" res=\"360p\" fps=\"30fps\" vcodec=\"avc1.42001E\" acodec=\"mp4a.40.2\" progressive=\"True\" type=\"video\">\n",
      "<Stream: itag=\"22\" mime_type=\"video/mp4\" res=\"720p\" fps=\"30fps\" vcodec=\"avc1.64001F\" acodec=\"mp4a.40.2\" progressive=\"True\" type=\"video\">\n",
      "<Stream: itag=\"137\" mime_type=\"video/mp4\" res=\"1080p\" fps=\"30fps\" vcodec=\"avc1.640028\" progressive=\"False\" type=\"video\">\n",
      "<Stream: itag=\"136\" mime_type=\"video/mp4\" res=\"720p\" fps=\"30fps\" vcodec=\"avc1.4d400a\" progressive=\"False\" type=\"video\">\n",
      "<Stream: itag=\"135\" mime_type=\"video/mp4\" res=\"480p\" fps=\"30fps\" vcodec=\"avc1.4d4014\" progressive=\"False\" type=\"video\">\n",
      "<Stream: itag=\"134\" mime_type=\"video/mp4\" res=\"360p\" fps=\"30fps\" vcodec=\"avc1.4d401e\" progressive=\"False\" type=\"video\">\n",
      "<Stream: itag=\"133\" mime_type=\"video/mp4\" res=\"240p\" fps=\"30fps\" vcodec=\"avc1.4d400c\" progressive=\"False\" type=\"video\">\n",
      "<Stream: itag=\"160\" mime_type=\"video/mp4\" res=\"144p\" fps=\"30fps\" vcodec=\"avc1.4d400b\" progressive=\"False\" type=\"video\">\n",
      "<Stream: itag=\"139\" mime_type=\"audio/mp4\" abr=\"48kbps\" acodec=\"mp4a.40.5\" progressive=\"False\" type=\"audio\">\n",
      "<Stream: itag=\"140\" mime_type=\"audio/mp4\" abr=\"128kbps\" acodec=\"mp4a.40.2\" progressive=\"False\" type=\"audio\">\n",
      "<Stream: itag=\"251\" mime_type=\"audio/webm\" abr=\"160kbps\" acodec=\"opus\" progressive=\"False\" type=\"audio\">\n"
     ]
    }
   ],
   "source": [
    "#print all the available streams\n",
    "for e in yt.streams:\n",
    "    print(e)"
   ]
  },
  {
   "cell_type": "markdown",
   "metadata": {},
   "source": [
    "#### (1) progressive=True\n",
    "Progressive Stream contains both audio and video\n",
    "\n",
    "#### (2) progressive=False\n",
    "ie, Adaptive Stream using DASH (Dynamic Adaptive Stream over HTTP)\n",
    "\n",
    "Adaptive Stream contains audio only, or video only, but can be subsequently merged "
   ]
  },
  {
   "cell_type": "code",
   "execution_count": 3,
   "metadata": {},
   "outputs": [
    {
     "data": {
      "text/plain": [
       "'D:\\\\py\\\\Metis\\\\project55_pytube\\\\video.mp4'"
      ]
     },
     "execution_count": 3,
     "metadata": {},
     "output_type": "execute_result"
    }
   ],
   "source": [
    "#download video only\n",
    "yt.streams.filter(res='1080p', progressive=False).first().download(filename='video.mp4')"
   ]
  },
  {
   "cell_type": "code",
   "execution_count": 4,
   "metadata": {},
   "outputs": [
    {
     "data": {
      "text/plain": [
       "'D:\\\\py\\\\Metis\\\\project55_pytube\\\\audio.mp3'"
      ]
     },
     "execution_count": 4,
     "metadata": {},
     "output_type": "execute_result"
    }
   ],
   "source": [
    "#download audio only\n",
    "yt.streams.filter(abr='160kbps', progressive=False).first().download(filename='audio.mp3')"
   ]
  },
  {
   "cell_type": "code",
   "execution_count": null,
   "metadata": {},
   "outputs": [],
   "source": []
  },
  {
   "cell_type": "code",
   "execution_count": null,
   "metadata": {},
   "outputs": [],
   "source": []
  },
  {
   "cell_type": "markdown",
   "metadata": {},
   "source": [
    "## Merge audio and video using ffmpeg"
   ]
  },
  {
   "cell_type": "code",
   "execution_count": 33,
   "metadata": {},
   "outputs": [
    {
     "name": "stdout",
     "output_type": "stream",
     "text": [
      "Collecting ffmpeg-python\n",
      "  Downloading ffmpeg_python-0.2.0-py3-none-any.whl (25 kB)\n",
      "Requirement already satisfied: future in c:\\users\\admin\\anaconda3\\lib\\site-packages (from ffmpeg-python) (0.18.2)\n",
      "Installing collected packages: ffmpeg-python\n",
      "Successfully installed ffmpeg-python-0.2.0\n"
     ]
    }
   ],
   "source": [
    "#install library\n",
    "!pip install ffmpeg-python"
   ]
  },
  {
   "cell_type": "code",
   "execution_count": 39,
   "metadata": {},
   "outputs": [
    {
     "name": "stdout",
     "output_type": "stream",
     "text": [
      "Collecting package metadata (current_repodata.json): ...working... done\n",
      "Solving environment: ...working... done\n",
      "\n",
      "## Package Plan ##\n",
      "\n",
      "  environment location: C:\\Users\\Admin\\anaconda3\n",
      "\n",
      "  added / updated specs:\n",
      "    - ffmpeg\n",
      "\n",
      "\n",
      "The following packages will be downloaded:\n",
      "\n",
      "    package                    |            build\n",
      "    ---------------------------|-----------------\n",
      "    conda-4.12.0               |   py38haa95532_0        14.5 MB\n",
      "    ffmpeg-4.2.2               |       he774522_0        17.6 MB\n",
      "    ------------------------------------------------------------\n",
      "                                           Total:        32.0 MB\n",
      "\n",
      "The following NEW packages will be INSTALLED:\n",
      "\n",
      "  ffmpeg             pkgs/main/win-64::ffmpeg-4.2.2-he774522_0\n",
      "\n",
      "The following packages will be UPDATED:\n",
      "\n",
      "  conda                                4.9.2-py38haa95532_0 --> 4.12.0-py38haa95532_0\n",
      "\n",
      "\n",
      "\n",
      "Downloading and Extracting Packages\n",
      "\n",
      "conda-4.12.0         | 14.5 MB   |            |   0% \n",
      "conda-4.12.0         | 14.5 MB   | 1          |   2% \n",
      "conda-4.12.0         | 14.5 MB   | #6         |  16% \n",
      "conda-4.12.0         | 14.5 MB   | ##9        |  30% \n",
      "conda-4.12.0         | 14.5 MB   | ####3      |  44% \n",
      "conda-4.12.0         | 14.5 MB   | #####6     |  56% \n",
      "conda-4.12.0         | 14.5 MB   | #######1   |  72% \n",
      "conda-4.12.0         | 14.5 MB   | ########4  |  85% \n",
      "conda-4.12.0         | 14.5 MB   | #########7 |  98% \n",
      "conda-4.12.0         | 14.5 MB   | ########## | 100% \n",
      "\n",
      "ffmpeg-4.2.2         | 17.6 MB   |            |   0% \n",
      "ffmpeg-4.2.2         | 17.6 MB   |            |   0% \n",
      "ffmpeg-4.2.2         | 17.6 MB   | 2          |   3% \n",
      "ffmpeg-4.2.2         | 17.6 MB   | 4          |   4% \n",
      "ffmpeg-4.2.2         | 17.6 MB   | 6          |   7% \n",
      "ffmpeg-4.2.2         | 17.6 MB   | 9          |  10% \n",
      "ffmpeg-4.2.2         | 17.6 MB   | #4         |  15% \n",
      "ffmpeg-4.2.2         | 17.6 MB   | #9         |  20% \n",
      "ffmpeg-4.2.2         | 17.6 MB   | ##6        |  26% \n",
      "ffmpeg-4.2.2         | 17.6 MB   | ###6       |  37% \n",
      "ffmpeg-4.2.2         | 17.6 MB   | ####5      |  46% \n",
      "ffmpeg-4.2.2         | 17.6 MB   | #####5     |  55% \n",
      "ffmpeg-4.2.2         | 17.6 MB   | ######6    |  66% \n",
      "ffmpeg-4.2.2         | 17.6 MB   | #######4   |  75% \n",
      "ffmpeg-4.2.2         | 17.6 MB   | ########3  |  83% \n",
      "ffmpeg-4.2.2         | 17.6 MB   | #########4 |  94% \n",
      "ffmpeg-4.2.2         | 17.6 MB   | ########## | 100% \n",
      "Preparing transaction: ...working... done\n",
      "Verifying transaction: ...working... done\n",
      "Executing transaction: ...working... done\n",
      "\n",
      "Note: you may need to restart the kernel to use updated packages.\n"
     ]
    }
   ],
   "source": [
    "#if you use: !pip install ffmpeg\n",
    "#you will have to know how to set the environment variables, or else use this:\n",
    "conda install ffmpeg"
   ]
  },
  {
   "cell_type": "code",
   "execution_count": null,
   "metadata": {},
   "outputs": [],
   "source": []
  },
  {
   "cell_type": "code",
   "execution_count": null,
   "metadata": {},
   "outputs": [],
   "source": []
  },
  {
   "cell_type": "markdown",
   "metadata": {},
   "source": [
    "### Remember to Restart Kernel after installing an updated package\n",
    "Below code is to merge hi-res video (1080p) with audio (160kbps)"
   ]
  },
  {
   "cell_type": "code",
   "execution_count": 5,
   "metadata": {},
   "outputs": [
    {
     "data": {
      "text/plain": [
       "(None, None)"
      ]
     },
     "execution_count": 5,
     "metadata": {},
     "output_type": "execute_result"
    }
   ],
   "source": [
    "import ffmpeg\n",
    "\n",
    "#download audio only\n",
    "yt.streams.filter(abr='160kbps', progressive=False).first().download(filename='audio.mp3')\n",
    "audio = ffmpeg.input('audio.mp3')\n",
    "#download video only\n",
    "yt.streams.filter(res='1080p', progressive=False).first().download(filename='video.mp4')\n",
    "video = ffmpeg.input('video.mp4')\n",
    "\n",
    "ffmpeg.concat(video, audio, v=1, a=1).output('finished_video.mp4').run(overwrite_output=True)"
   ]
  },
  {
   "cell_type": "markdown",
   "metadata": {},
   "source": [
    "v=1: Set the number of output video streams, that is also the number of video streams in each segment. Default is 1.\n",
    "\n",
    "a=1: Set the number of output audio streams, that is also the number of audio streams in each segment. Default is 0.\n",
    "\n",
    "#### References:\n",
    "ffmpeg concat\n",
    "https://ffmpeg.org/ffmpeg-filters.html#concat\n",
    "\n",
    "Merge audio and video file\n",
    "https://github.com/kkroening/ffmpeg-python/issues/281"
   ]
  },
  {
   "cell_type": "code",
   "execution_count": 8,
   "metadata": {},
   "outputs": [
    {
     "data": {
      "text/plain": [
       "(None, None)"
      ]
     },
     "execution_count": 8,
     "metadata": {},
     "output_type": "execute_result"
    }
   ],
   "source": [
    "#same output with default parameters\n",
    "ffmpeg.output(audio, video, 'finished_video1.mp4').run(overwrite_output=True)"
   ]
  },
  {
   "cell_type": "code",
   "execution_count": null,
   "metadata": {},
   "outputs": [],
   "source": []
  },
  {
   "cell_type": "code",
   "execution_count": null,
   "metadata": {},
   "outputs": [],
   "source": []
  },
  {
   "cell_type": "markdown",
   "metadata": {},
   "source": [
    "### Sample production code"
   ]
  },
  {
   "cell_type": "code",
   "execution_count": 1,
   "metadata": {},
   "outputs": [],
   "source": [
    "def clean_filename(name):\n",
    "        \"\"\"Ensures each file name does not contain forbidden characters and is within the character limit\"\"\"\n",
    "        # For some reason the file system (Windows at least) is having trouble saving files that are over 180ish\n",
    "        # characters.  I'm not sure why this is, as the file name limit should be around 240. But either way, this\n",
    "        # method has been adapted to work with the results that I am consistently getting.\n",
    "        forbidden_chars = '\"*\\\\/\\'.|?:<>'\n",
    "        filename = (''.join([x if x not in forbidden_chars else '#' for x in name])).replace('  ', ' ').strip()\n",
    "        if len(filename) >= 176:\n",
    "            filename = filename[:170] + '...'\n",
    "        return filename "
   ]
  },
  {
   "cell_type": "code",
   "execution_count": 1,
   "metadata": {},
   "outputs": [
    {
     "name": "stdout",
     "output_type": "stream",
     "text": [
      "Please open https://www.google.com/device and input code VPTR-YCQS\n"
     ]
    },
    {
     "name": "stdin",
     "output_type": "stream",
     "text": [
      "Press enter when you have completed this step. \n"
     ]
    },
    {
     "name": "stdout",
     "output_type": "stream",
     "text": [
      "Title: Build LookML Objects in Looker: GSP891 Looker Developer - Qwik Start solution 2.1\n",
      "Author: Black Raven\n",
      "Published date: 2022-04-27\n",
      "Number of views: 14\n",
      "Length of video: 339 sec\n",
      "1080p video successfully downloaded from https://youtu.be/7aKpeAu-IoM\n",
      "Time taken: 110 sec\n"
     ]
    }
   ],
   "source": [
    "import ffmpeg    #to merge audio/video streaams\n",
    "import pytube    #to download video from YouTube\n",
    "import time      #to measure download time\n",
    "\n",
    "link = 'https://youtu.be/7aKpeAu-IoM'\n",
    "ti = time.time()\n",
    "yt = pytube.YouTube(link, use_oauth=True, allow_oauth_cache=True)\n",
    "print('Title:', yt.title)\n",
    "print('Author:', yt.author)\n",
    "print('Published date:', yt.publish_date.strftime(\"%Y-%m-%d\"))\n",
    "print('Number of views:', yt.views)\n",
    "print('Length of video:', yt.length, 'sec')\n",
    "\n",
    "try:\n",
    "    yt.streams.filter(res='1080p', progressive=False).first().download(filename='video.mp4')\n",
    "    yt.streams.filter(abr='160kbps', progressive=False).first().download(filename='audio.mp3')\n",
    "    res = '1080p'\n",
    "except:\n",
    "    yt.streams.filter(res='720p', progressive=False).first().download(filename='video.mp4')\n",
    "    yt.streams.filter(abr='128kbps', progressive=False).first().download(filename='audio.mp3')\n",
    "    res = '720p'\n",
    "    \n",
    "audio = ffmpeg.input('audio.mp3')\n",
    "video = ffmpeg.input('video.mp4')\n",
    "filename = 'C:\\\\Users\\\\Admin\\\\Downloads\\\\' + clean_filename(yt.title) + '.mp4'    #for Windows output to folder C:\\Users\\Admin\\Downloads\\\n",
    "ffmpeg.output(audio, video, filename).run(overwrite_output=True)\n",
    "print(res, 'video successfully downloaded from', link)\n",
    "print('Time taken: {:.0f} sec'.format(time.time() - ti))"
   ]
  },
  {
   "cell_type": "code",
   "execution_count": null,
   "metadata": {},
   "outputs": [],
   "source": []
  },
  {
   "cell_type": "code",
   "execution_count": null,
   "metadata": {},
   "outputs": [],
   "source": []
  },
  {
   "cell_type": "markdown",
   "metadata": {},
   "source": [
    "### Sample production code (alternative)"
   ]
  },
  {
   "cell_type": "code",
   "execution_count": 1,
   "metadata": {},
   "outputs": [],
   "source": [
    "import ffmpeg    #to merge audio/video streaams\n",
    "import pytube    #to download video from YouTube\n",
    "import time      #to measure download time\n",
    "\n",
    "def clean_filename(name):\n",
    "        forbidden_chars = '\"*\\\\/\\'.|?:<>'\n",
    "        filename = (''.join([x if x not in forbidden_chars else '#' for x in name])).replace('  ', ' ').strip()\n",
    "        if len(filename) >= 176:\n",
    "            filename = filename[:170] + '...'\n",
    "        return filename \n",
    "    \n",
    "def download_video(link, res_level='FHD'):\n",
    "    ti = time.time()\n",
    "    yt = pytube.YouTube(link, use_oauth=True, allow_oauth_cache=True)\n",
    "    print(yt.title, '|', yt.author, '|', yt.publish_date.strftime(\"%Y-%m-%d\"), '|', yt.views, '|', yt.length, 'sec')\n",
    "    \n",
    "    if res_level == '4K':\n",
    "        dynamic_streams = ['2160p|160kbps', '1440p|160kbps', '1080p|160kbps', '720p|160kbps', '720p|128kbps', '480p|160kbps', '480p|128kbps']\n",
    "    elif res_level == 'FHD':\n",
    "        dynamic_streams = ['1080p|160kbps', '720p|160kbps', '720p|128kbps', '480p|160kbps', '480p|128kbps']\n",
    "    for ds in dynamic_streams:\n",
    "        try:\n",
    "            yt.streams.filter(res=ds.split('|')[0], progressive=False).first().download(filename='video.mp4')\n",
    "            yt.streams.filter(abr=ds.split('|')[1], progressive=False).first().download(filename='audio.mp3')\n",
    "            break\n",
    "        except:\n",
    "            continue\n",
    "        \n",
    "    audio = ffmpeg.input('audio.mp3')\n",
    "    video = ffmpeg.input('video.mp4')\n",
    "    filename = 'C:\\\\Users\\\\Admin\\\\Videos\\\\RealPlayer Downloads\\\\' + clean_filename(yt.title) \n",
    "    \n",
    "    duplicated = ['', '1', '2', '3', '4', '5']    #if filename is duplicated, append with version number\n",
    "    for dup in duplicated:\n",
    "        try:\n",
    "            ffmpeg.output(audio, video, filename+dup+'.mp4').run()\n",
    "            break\n",
    "        except:\n",
    "            continue\n",
    "        \n",
    "    print(ds, 'video successfully downloaded from', link)\n",
    "    print('Time taken: {:.0f} sec'.format(time.time() - ti))"
   ]
  },
  {
   "cell_type": "code",
   "execution_count": 2,
   "metadata": {},
   "outputs": [
    {
     "name": "stdout",
     "output_type": "stream",
     "text": [
      "Build LookML Objects in Looker: GSP891 Looker Developer - Qwik Start solution 2.1 | Black Raven | 2022-04-27 | 14 | 339 sec\n",
      "1080p|160kbps video successfully downloaded from https://youtu.be/7aKpeAu-IoM\n",
      "Time taken: 80 sec\n"
     ]
    }
   ],
   "source": [
    "link = 'https://youtu.be/7aKpeAu-IoM'\n",
    "download_video(link, 'FHD')    #the maximum resolution available is FHD 1080p for this video stream"
   ]
  },
  {
   "cell_type": "code",
   "execution_count": null,
   "metadata": {},
   "outputs": [],
   "source": []
  },
  {
   "cell_type": "code",
   "execution_count": null,
   "metadata": {},
   "outputs": [],
   "source": []
  },
  {
   "cell_type": "code",
   "execution_count": null,
   "metadata": {},
   "outputs": [],
   "source": []
  },
  {
   "cell_type": "code",
   "execution_count": null,
   "metadata": {},
   "outputs": [],
   "source": []
  }
 ],
 "metadata": {
  "kernelspec": {
   "display_name": "Python 3",
   "language": "python",
   "name": "python3"
  },
  "language_info": {
   "codemirror_mode": {
    "name": "ipython",
    "version": 3
   },
   "file_extension": ".py",
   "mimetype": "text/x-python",
   "name": "python",
   "nbconvert_exporter": "python",
   "pygments_lexer": "ipython3",
   "version": "3.8.3"
  }
 },
 "nbformat": 4,
 "nbformat_minor": 4
}
